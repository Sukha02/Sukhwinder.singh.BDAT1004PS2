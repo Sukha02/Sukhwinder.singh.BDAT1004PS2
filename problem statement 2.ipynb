{
 "cells": [
  {
   "cell_type": "code",
   "execution_count": 2,
   "id": "7ed5898c",
   "metadata": {},
   "outputs": [
    {
     "name": "stdout",
     "output_type": "stream",
     "text": [
      " Question 1\n",
      "None\n",
      "None\n",
      "None\n",
      "6\n",
      "## in every iteration the value of variable 'a' is being incremented by 2. Initallly, the value is 0 but after three calls of a(), it turns to 6. \n"
     ]
    }
   ],
   "source": [
    "# -*- coding: utf-8 -*-\n",
    "\"\"\"\n",
    "Created on Fri Oct 28 12:48:41 2022\n",
    "\n",
    "@author: hp\n",
    "\"\"\"\n",
    "\n",
    "#Problem Set 2\n",
    "#This problem set is based on lectures 4,5 and 6. For a complete list of topics please consult page 2 of the course syllabus. Please consult the “Instructions for Problem Set Submissions” document under course information before submitting your assignment.\n",
    "\n",
    "\n",
    "print(\" Question 1\")\n",
    "a = 0\n",
    "def b():\n",
    "    global a\n",
    "    a = c(a)\n",
    "    \n",
    "def c(a):\n",
    "    return a + 2\n",
    "\n",
    "print(b())\n",
    "print(b())\n",
    "print(b())\n",
    "print(a)\n",
    "\n",
    "print(\"## in every iteration the value of variable 'a' is being incremented by 2. Initallly, the value is 0 but after three calls of a(), it turns to 6. \")\n",
    "\n"
   ]
  },
  {
   "cell_type": "code",
   "execution_count": 3,
   "id": "2ab5d03c",
   "metadata": {},
   "outputs": [
    {
     "name": "stdout",
     "output_type": "stream",
     "text": [
      "****************************************\n",
      "\n",
      " Question 2\n",
      "File idterm.py not found.\n"
     ]
    }
   ],
   "source": [
    "## Question 2\n",
    "print(\"****************************************\")\n",
    "print(\"\\n Question 2\")\n",
    "def file_length(file_name):\n",
    "    try:\n",
    "        file = open(file_name)\n",
    "        contents = file.read()\n",
    "        file.close()\n",
    "        print(len(contents))\n",
    "    except:\n",
    "        print(\"File \" +file_name + \" not found.\")\n",
    "        \n",
    "    \n",
    "file_length('idterm.py')    \n"
   ]
  },
  {
   "cell_type": "code",
   "execution_count": 4,
   "id": "8f8cac29",
   "metadata": {},
   "outputs": [
    {
     "name": "stdout",
     "output_type": "stream",
     "text": [
      "****************************************\n",
      "\n",
      " Question 3\n",
      "['doll', 'firetruck', 'kitten']\n",
      "I am kangaroo located at coordinates (0,0)\n",
      "['doll', 'firetruck', 'kitten']\n",
      "I am kangaroo located at coordinates (3,0)\n"
     ]
    }
   ],
   "source": [
    "## Question 3\n",
    "print(\"****************************************\")\n",
    "print(\"\\n Question 3\")\n",
    "\n",
    "class Marsupial:\n",
    "    def __init__(self):\n",
    "         self.pouch = []\n",
    "    def put_in_pouch(self,name):\n",
    "          self.pouch.append(name)\n",
    "    def pouch_contents(self):\n",
    "          print(self.pouch)\n",
    "\n",
    "m = Marsupial()\n",
    "m.put_in_pouch('doll')\n",
    "m.put_in_pouch('firetruck')\n",
    "m.put_in_pouch('kitten')\n",
    "m.pouch_contents()\n",
    "\n",
    "class Kangaroo(Marsupial):\n",
    "  def __init__(self,x,y):\n",
    "    super().__init__()\n",
    "    self.x = x\n",
    "    self.y = y\n",
    "  \n",
    "  def jump(self,dx,dy):\n",
    "    self.x += dx\n",
    "    self.y += dy\n",
    "  \n",
    "  def __str__(self):\n",
    "    return f\"I am kangaroo located at coordinates ({self.x},{self.y})\"\n",
    "\n",
    "k = Kangaroo(0,0)\n",
    "print(k)\n",
    "k.put_in_pouch('doll')\n",
    "k.put_in_pouch('firetruck')\n",
    "k.put_in_pouch('kitten')\n",
    "k.pouch_contents()\n",
    "k.jump(1,0)\n",
    "k.jump(1,0)\n",
    "k.jump(1,0)\n",
    "print(k)"
   ]
  },
  {
   "cell_type": "code",
   "execution_count": 5,
   "id": "68f10ee0",
   "metadata": {},
   "outputs": [
    {
     "name": "stdout",
     "output_type": "stream",
     "text": [
      "****************************************\n",
      "\n",
      " Question 4\n",
      "10\n",
      "5\n",
      "16\n",
      "8\n",
      "4\n",
      "2\n",
      "1\n"
     ]
    }
   ],
   "source": [
    "## Question 4\n",
    "print(\"****************************************\")\n",
    "print(\"\\n Question 4\")\n",
    "\n",
    "def collatz(n):\n",
    "  print(n)\n",
    "  if n==1:\n",
    "    return\n",
    "  if n%2==0:\n",
    "    collatz(n//2)\n",
    "  else:\n",
    "    collatz((n*3)+1)\n",
    "collatz(10)"
   ]
  },
  {
   "cell_type": "code",
   "execution_count": 6,
   "id": "50d7a849",
   "metadata": {},
   "outputs": [
    {
     "name": "stdout",
     "output_type": "stream",
     "text": [
      "****************************************\n",
      "\n",
      " Question 5\n",
      "0\n",
      "1\n",
      "11\n",
      "1001\n"
     ]
    }
   ],
   "source": [
    "## Question 5\n",
    "print(\"****************************************\")\n",
    "print(\"\\n Question 5\")\n",
    "\n",
    "def binary(n):\n",
    "  if n == 0:\n",
    "    return 0\n",
    "  no = binary(n//2)\n",
    "  return n % 2 + 10 * no\n",
    "   \n",
    "\n",
    "print(binary(0))\n",
    "print(binary(1))\n",
    "print(binary(3))  \n",
    "print(binary(9))"
   ]
  },
  {
   "cell_type": "code",
   "execution_count": 7,
   "id": "284e3c75",
   "metadata": {},
   "outputs": [
    {
     "name": "stdout",
     "output_type": "stream",
     "text": [
      "****************************************\n",
      "\n",
      " Question 6\n",
      "W3C Mission\n",
      " Principles\n",
      " "
     ]
    }
   ],
   "source": [
    "## Question 6\n",
    "print(\"****************************************\")\n",
    "print(\"\\n Question 6\")\n",
    "\n",
    "from html.parser import HTMLParser\n",
    "from bs4 import BeautifulSoup\n",
    "infile = open(\"D:/BDAT/1004/problem 2/w3c.html\")\n",
    "content = infile.read()\n",
    "infile.close()\n",
    "hp = HTMLParser()\n",
    "hp.feed(content)\n",
    "\n",
    "# Creating a BeautifulSoup object and specifying the parser\n",
    "Parse = BeautifulSoup(content, 'lxml')\n",
    "  \n",
    "# Printing the name\n",
    "heading_tags = [\"h1\", \"h2\"]\n",
    "for tags in Parse.find_all(heading_tags):\n",
    "    print(tags.text.strip(),end='\\n ')"
   ]
  },
  {
   "cell_type": "code",
   "execution_count": 8,
   "id": "ea757757",
   "metadata": {},
   "outputs": [
    {
     "name": "stdout",
     "output_type": "stream",
     "text": [
      "****************************************\n",
      "\n",
      " Question 7\n",
      "https://www.webscraper.io/test-sites/e-commerce/static\n",
      " https://forum.webscraper.io/\n",
      "  https://www.discourse.org\n",
      " https://chrome.google.com/webstore/detail/web-scraper/jnhgnonknehpejjnehehllkliplmbmhn?hl=en\n",
      "  https://chrome.google.com/webstore/report/jnhgnonknehpejjnehehllkliplmbmhn?hl=en\n",
      "  https://webscraper.io/extension-privacy-policy\n",
      " https://cloud.webscraper.io/\n",
      " https://forum.webscraper.io/\n",
      "  https://www.discourse.org\n",
      " https://www.facebook.com/webscraperio/\n",
      " https://twitter.com/webscraperio\n",
      "  https://help.twitter.com/using-twitter/twitter-supported-browsers\n",
      "  https://twitter.com/tos\n",
      "  https://twitter.com/privacy\n",
      "  https://support.twitter.com/articles/20170514\n",
      "  https://legal.twitter.com/imprint.html\n",
      "  https://business.twitter.com/en/help/troubleshooting/how-twitter-ads-work.html?ref=web-twc-ao-gbl-adsinfo&utm_source=twc&utm_medium=web&utm_campaign=ao&utm_content=adsinfo\n"
     ]
    }
   ],
   "source": [
    "## Question 7\n",
    "print(\"****************************************\")\n",
    "print(\"\\n Question 7\")\n",
    "        \n",
    "from urllib.request import Request, urlopen\n",
    "import re\n",
    "from bs4 import BeautifulSoup\n",
    "def webdir(url,depth,indent):\n",
    "  if depth ==0:\n",
    "    return \n",
    "  print(\" \"*indent+ f\"{url}\")\n",
    "  req = Request(url)\n",
    "  html_page = urlopen(req)\n",
    "  soup = BeautifulSoup(html_page, \"lxml\")\n",
    "  links = []\n",
    "  for link in soup.findAll('a'):\n",
    "    #print(link,type(link))\n",
    "    if link.get('href') and 'https' ==  link.get('href')[:5]:\n",
    "      links.append(link.get('href'))\n",
    "  #print(links)\n",
    "  for link in links:\n",
    "    webdir(link,depth-1,indent+1)\n",
    "\n",
    "webdir('https://www.webscraper.io/test-sites/e-commerce/static', 3, 0)"
   ]
  },
  {
   "cell_type": "code",
   "execution_count": 9,
   "id": "340d4a67",
   "metadata": {},
   "outputs": [
    {
     "name": "stdout",
     "output_type": "stream",
     "text": [
      "****************************************\n",
      "\n",
      " Question 8\n"
     ]
    }
   ],
   "source": [
    "\n",
    "## Question 8\n",
    "print(\"****************************************\")\n",
    "print(\"\\n Question 8\")"
   ]
  },
  {
   "cell_type": "code",
   "execution_count": 10,
   "id": "67912029",
   "metadata": {},
   "outputs": [
    {
     "name": "stdout",
     "output_type": "stream",
     "text": [
      "****************************************\n",
      "\n",
      " Question 9\n",
      "['THE', 'QUICK', 'BROWN', 'FOX', 'JUMPS', 'OVER', 'THE', 'LAZY', 'DOG']\n",
      "['the', 'quick', 'brown', 'fox', 'jumps', 'over', 'the', 'lazy', 'dog']\n",
      "[3, 5, 5, 3, 5, 4, 3, 4, 3]\n",
      "[['THE', 'the', 3], ['QUICK', 'quick', 5], ['BROWN', 'brown', 5], ['FOX', 'fox', 3], ['JUMPS', 'jumps', 5], ['OVER', 'over', 4], ['THE', 'the', 3], ['LAZY', 'lazy', 4], ['DOG', 'dog', 3]]\n",
      "['quick', 'brown', 'jumps', 'over', 'lazy']\n"
     ]
    }
   ],
   "source": [
    "## Question 9\n",
    "print(\"****************************************\")\n",
    "print(\"\\n Question 9\")\n",
    "\n",
    "words = ['The', 'quick', 'brown', 'fox', 'jumps', 'over', 'the', 'lazy', 'dog']\n",
    "print([word.upper() for word in words ])\n",
    "print([word.lower() for word in words ])\n",
    "print([len(word) for word in words ])\n",
    "print([[word.upper(),word.lower(),len(word)] for word in words ])\n",
    "print([word for word in words if len(word)>=4])  \n",
    "\n"
   ]
  }
 ],
 "metadata": {
  "kernelspec": {
   "display_name": "Python 3",
   "language": "python",
   "name": "python3"
  },
  "language_info": {
   "codemirror_mode": {
    "name": "ipython",
    "version": 3
   },
   "file_extension": ".py",
   "mimetype": "text/x-python",
   "name": "python",
   "nbconvert_exporter": "python",
   "pygments_lexer": "ipython3",
   "version": "3.9.10"
  }
 },
 "nbformat": 4,
 "nbformat_minor": 5
}
